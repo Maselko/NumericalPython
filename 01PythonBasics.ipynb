{
 "cells": [
  {
   "cell_type": "markdown",
   "metadata": {
    "colab_type": "text",
    "id": "view-in-github"
   },
   "source": [
    "<a href=\"https://colab.research.google.com/github/weymouth/NumericalPython/blob/main/01PythonBasics.ipynb\" target=\"_parent\"><img src=\"https://colab.research.google.com/assets/colab-badge.svg\" alt=\"Open In Colab\"/></a>"
   ]
  },
  {
   "cell_type": "markdown",
   "metadata": {
    "id": "umNbE5lyd6bT"
   },
   "source": [
    "# Getting Started with Python Notebooks\n"
   ]
  },
  {
   "cell_type": "markdown",
   "metadata": {
    "id": "ozUUhZEZd6bT"
   },
   "source": [
    "**Hello**! Numerical programming and analysis is becoming a key skill for modern engineers and you will need to use Python in some of your modules for labs and coursework. This is a quick introduction to numerical programming in [Python](https://www.python.org/) to help you get started. "
   ]
  },
  {
   "cell_type": "markdown",
   "metadata": {
    "id": "xk7BbJKJd6bT"
   },
   "source": [
    "# Overview\n",
    "\n",
    "## Jupyter notebooks\n",
    "\n",
    "This is a [Jupyter](https://jupyter.org/) notebook. A notebook is a series of cells, which contain either markdown text, or python code. You can use the dropdown menu in the toolbar at the top to change between the two. Double click on this cell to see the markdown text. Click play on the toolbar, or [shift]+[enter], to render it.\n",
    "\n",
    "A markdown cell lets you write simple text (for your discussions), but it also lets you write equations $\\frac{d}{dt}(mv)=\\sum f$, embed [links](http://jupyter-notebook.readthedocs.io/en/latest/examples/Notebook/Working%20With%20Markdown%20Cells.html) ,and display images \n",
    "\n",
    "![Jupyter logo](https://upload.wikimedia.org/wikipedia/commons/thumb/3/38/Jupyter_logo.svg/250px-Jupyter_logo.svg.png)\n",
    "\n",
    "But we're not here for markdown, we're here for python! The next cell is a python cell. Click the \"play\" button on the left or hit [shift]+[enter] in the cell to evaluate it."
   ]
  },
  {
   "cell_type": "code",
   "execution_count": 2,
   "metadata": {
    "id": "JuiUvatAGDl7"
   },
   "outputs": [
    {
     "name": "stdout",
     "output_type": "stream",
     "text": [
      "Hello World. My name is Sebastian.\n"
     ]
    }
   ],
   "source": [
    "name = \"Sebastian\"\n",
    "print(\"Hello World. My name is \"+name+\".\")"
   ]
  },
  {
   "cell_type": "markdown",
   "metadata": {
    "id": "YrEs3TJPGEEA"
   },
   "source": [
    "Try changing the name and rerun the cell to update the output.\n",
    "\n",
    "The rest of these notebooks will give a tutorial of the python language below, but as far as the notebook element of coding, the most import thing is that the cells don't run in order automatically. So #1 tip is: **Try to keep code together in a single cell block when possible. When it isn't possible, make sure to restart the kernel and `Run all` cells in the notebook frequently.** That will avoid unpleasant surprises."
   ]
  },
  {
   "cell_type": "markdown",
   "metadata": {
    "id": "2C2W2YcHfbUO"
   },
   "source": [
    "### Online versus local \n",
    "I've put a copy of this notebook on [google colab](https://research.google.com/colaboratory/faq.html) so you can run it using your web-browser. This is extremely convienient, but there are advantages to running notebooks on your own machine. To do this, you need to download the `ipynb` file and [install Anaconda](https://docs.anaconda.com/anaconda/install/). This will install `Python 3` on your machine and the `jupyter` notebook environment, letting you run the notebooks locally."
   ]
  },
  {
   "cell_type": "markdown",
   "metadata": {
    "id": "Pp-tpCmAd6bW"
   },
   "source": [
    "# Python basics\n",
    "\n",
    "The example above sets the **variable** `name` and then uses the `+` **operation** and uses a `print` **function** to show the result. Variables operations and functions are probably the most fundamental elements of a programming language, and this notebook will introduce the syntax of these elements in python."
   ]
  },
  {
   "cell_type": "markdown",
   "metadata": {
    "id": "vNcd5wzHd6bW"
   },
   "source": [
    "## Variables\n",
    "\n",
    "Python doesn't require explicitly declared variable types, like C and other languages do. Just assign a variable and Python understands what you want:"
   ]
  },
  {
   "cell_type": "code",
   "execution_count": 3,
   "metadata": {
    "id": "5blI8MIRd6bW"
   },
   "outputs": [],
   "source": [
    "a = 5      # a is an integer 5\n",
    "b = 'five' # b is a string of the word 'five'\n",
    "c = 5.0    # c is a floating point 5  "
   ]
  },
  {
   "cell_type": "markdown",
   "metadata": {
    "id": "Tx4eG9sOd6bW"
   },
   "source": [
    "Ask Python to tell you what type it has assigned to a given variable name like this:"
   ]
  },
  {
   "cell_type": "code",
   "execution_count": 4,
   "metadata": {
    "id": "QUy5tSUWd6bW"
   },
   "outputs": [
    {
     "data": {
      "text/plain": [
       "(int, str, float)"
      ]
     },
     "execution_count": 4,
     "metadata": {},
     "output_type": "execute_result"
    }
   ],
   "source": [
    "type(a), type(b), type(c)"
   ]
  },
  {
   "cell_type": "markdown",
   "metadata": {
    "id": "jZSvwD-sH8FW"
   },
   "source": [
    "Note that nothing was printed to screen after you ran the python cell assigning the variables. However, since nothing is assigned in the cell evalauting the variable types, the notebook defaults to printing the result."
   ]
  },
  {
   "cell_type": "markdown",
   "metadata": {
    "id": "we9yKEbWSGJI"
   },
   "source": [
    "## Operations\n",
    "\n",
    "Now that we have variables, we can combine them with operations. Python has many built in operations, but we will just need a few\n",
    "\n",
    "| Operator     | Name           | Description                                            |\n",
    "|--------------|----------------|--------------------------------------------------------|\n",
    "| ``a + b``    | Addition       | Sum of ``a`` and ``b``                                 |\n",
    "| ``a - b``    | Subtraction    | Difference of ``a`` and ``b``                          |\n",
    "| ``a * b``    | Multiplication | Product of ``a`` and ``b``                             |\n",
    "| ``a / b``    | True division  | Quotient of ``a`` and ``b``                            |\n",
    "| ``a // b``   | Floor division | Quotient of ``a`` and ``b``, removing fractional parts |\n",
    "| ``a % b``    | Modulus        | Integer remainder after division of ``a`` by ``b``     |\n",
    "| ``a ** b``   | Exponentiation | ``a`` raised to the power of ``b``                     |\n",
    "| ``-a``       | Negation       | The negative of ``a``                                  |\n",
    "\n",
    "<span style=\"display:none\"></span>\n",
    "\n",
    "These should all be familiar to you except possibly floor division and the modulus operator, but these are both very useful in engineering as we will see in the later examples. \n",
    "\n",
    "For now, take a look at the operations below and guess what they will evaluate to. Then run the cell and see if you were right. A few of these might surprise you!"
   ]
  },
  {
   "cell_type": "code",
   "execution_count": 5,
   "metadata": {
    "id": "abbp1bE0UerS"
   },
   "outputs": [
    {
     "name": "stdout",
     "output_type": "stream",
     "text": [
      "20\n",
      "20.0\n",
      "hi hi hi hi hi \n",
      "1.25\n",
      "1.25\n",
      "1\n",
      "5.0\n",
      "4\n",
      "1\n"
     ]
    }
   ],
   "source": [
    "print(4*5)\n",
    "print(4.0*5.0)\n",
    "print(\"hi \"*5)\n",
    "\n",
    "print(5/4)\n",
    "print(5.0/4.0)\n",
    "print(5//4)\n",
    "print(5/2*2)\n",
    "\n",
    "print(4%5)\n",
    "print(5%4)"
   ]
  },
  {
   "cell_type": "markdown",
   "metadata": {
    "id": "S3Zmxz4Jd6ba"
   },
   "source": [
    "## Functions\n",
    "\n",
    "A function is simply a block of code that applies some operations on an input, and can (optionally) return an output. Functions help you by letting you write code once, and then use it as many times as you want.\n",
    "\n",
    "In python a function looks like this:"
   ]
  },
  {
   "cell_type": "code",
   "execution_count": 6,
   "metadata": {
    "id": "KQ0ShWgsd6ba"
   },
   "outputs": [],
   "source": [
    "def multiply(a,b):\n",
    "    c = a*b\n",
    "    return c"
   ]
  },
  {
   "cell_type": "markdown",
   "metadata": {
    "id": "ZJEY03aud6ba"
   },
   "source": [
    "First, there is a keyword `def` that lets python know you're defining a function. On the same line, you give the function a name, define the input arguments of the function in parenthesis and put a colon on the end. In this case the name is `multiply` and it has two inputs, `a` and `b`.\n",
    "\n",
    "Next the _body_ of the function is defined. In this case we define a `c` as the product of `a` and `b`. Then we _return_ `c`, this is the function output. Note that this code is indented. Whitespace is important in python and we'll discuss it more below.\n",
    "\n",
    "To use the function, we just write the name and fill in the inputs:"
   ]
  },
  {
   "cell_type": "code",
   "execution_count": 7,
   "metadata": {
    "id": "6tNptEjcd6ba"
   },
   "outputs": [
    {
     "data": {
      "text/plain": [
       "12"
      ]
     },
     "execution_count": 7,
     "metadata": {},
     "output_type": "execute_result"
    }
   ],
   "source": [
    "multiply(3,4)"
   ]
  },
  {
   "cell_type": "markdown",
   "metadata": {
    "id": "k4BYn7rZd6ba"
   },
   "source": [
    "When writing your own functions, the most important thing to remember is that the function should only depend on the inputs, nothing else. The multiply function is a good simple example of this. Here is a bad example:"
   ]
  },
  {
   "cell_type": "code",
   "execution_count": 9,
   "metadata": {
    "id": "FMbmvIvyd6ba"
   },
   "outputs": [
    {
     "data": {
      "text/plain": [
       "15"
      ]
     },
     "execution_count": 9,
     "metadata": {},
     "output_type": "execute_result"
    }
   ],
   "source": [
    "def mult_bad(b):\n",
    "    return a*b\n",
    "\n",
    "mult_bad(3)"
   ]
  },
  {
   "cell_type": "markdown",
   "metadata": {
    "id": "ND2sL7t9d6ba"
   },
   "source": [
    "In this example, we're using `a` without naming it as an input. This means the function uses whatever happens to be named `a`, in this case the variable we named above. This kind of function is worse than useless - it will almost certainly lead you to make mistakes later. "
   ]
  },
  {
   "cell_type": "markdown",
   "metadata": {
    "id": "UHO4JaEZd6bX"
   },
   "source": [
    "## Whitespace and loops"
   ]
  },
  {
   "cell_type": "markdown",
   "metadata": {
    "id": "tleHMdv5d6bX"
   },
   "source": [
    "Python uses indents and whitespace to group statements together, which can be confusing until you get used to it. Try running this function and then fix it."
   ]
  },
  {
   "cell_type": "code",
   "execution_count": 12,
   "metadata": {
    "id": "LDlkHYtMK4o4"
   },
   "outputs": [
    {
     "data": {
      "text/plain": [
       "32"
      ]
     },
     "execution_count": 12,
     "metadata": {},
     "output_type": "execute_result"
    }
   ],
   "source": [
    "def double_then_add(a,b):\n",
    "    two_a = 2*a\n",
    "    return two_a+b\n",
    "\n",
    "double_then_add(10,12)"
   ]
  },
  {
   "cell_type": "markdown",
   "metadata": {
    "id": "D38jk4E1QDte"
   },
   "source": [
    "So the whole function body after the colon must be indented. This is also true for **loops**, which are acheived using the `for` keyword in python."
   ]
  },
  {
   "cell_type": "code",
   "execution_count": 13,
   "metadata": {
    "id": "nAxFcm1id6bX"
   },
   "outputs": [
    {
     "name": "stdout",
     "output_type": "stream",
     "text": [
      "Hi. i= 0\n",
      "Hi. i= 1\n",
      "Hi. i= 2\n",
      "Hi. i= 3\n",
      "Hi. i= 4\n"
     ]
    }
   ],
   "source": [
    "for i in range(5):\n",
    "    print(\"Hi. i=\",i)"
   ]
  },
  {
   "cell_type": "markdown",
   "metadata": {
    "id": "tGxaQmhbd6bX"
   },
   "source": [
    "Did you notice the [`range()`](http://docs.python.org/release/1.5.1p1/tut/range.html) function? It is a neat built-in function of Python that gives you a list from an arithmetic progression. Notice that `range(5)` [starts at 0](https://www.cs.utexas.edu/users/EWD/transcriptions/EWD08xx/EWD831.html) and gives 5 numbers total. You can also adjust the starting value and step if you want."
   ]
  },
  {
   "cell_type": "code",
   "execution_count": 14,
   "metadata": {
    "id": "K3qCqDzZRWBr"
   },
   "outputs": [
    {
     "name": "stdout",
     "output_type": "stream",
     "text": [
      "3\n",
      "5\n",
      "7\n",
      "9\n"
     ]
    }
   ],
   "source": [
    "for i in range(3,11,2):\n",
    "    print(i)"
   ]
  },
  {
   "cell_type": "markdown",
   "metadata": {
    "id": "hQz3p8V9RTSS"
   },
   "source": [
    "If you have nested `for` loops (or functions), there is a further indent for the inner loop, like this:"
   ]
  },
  {
   "cell_type": "code",
   "execution_count": 15,
   "metadata": {
    "id": "xLHS3Dpod6bX"
   },
   "outputs": [
    {
     "name": "stdout",
     "output_type": "stream",
     "text": [
      "0 0\n",
      "0 1\n",
      "0 2\n",
      "This statement is within the i-loop, but not the j-loop\n",
      "1 0\n",
      "1 1\n",
      "1 2\n",
      "This statement is within the i-loop, but not the j-loop\n",
      "2 0\n",
      "2 1\n",
      "2 2\n",
      "This statement is within the i-loop, but not the j-loop\n"
     ]
    }
   ],
   "source": [
    "for i in range(3):\n",
    "    for j in range(3):\n",
    "        print(i, j)\n",
    "    \n",
    "    print(\"This statement is within the i-loop, but not the j-loop\")"
   ]
  },
  {
   "cell_type": "markdown",
   "metadata": {
    "id": "kWU8W5OUacRs"
   },
   "source": [
    "Note that if you ever need help with a built in python function, you can type `?` and the function name, or `help(function_name)` or just google it. The colab notebooks have a builtin feature that even displays help when you type the function name. Explore these options below."
   ]
  },
  {
   "cell_type": "code",
   "execution_count": 16,
   "metadata": {
    "id": "o2DGBWdMaX5C"
   },
   "outputs": [
    {
     "data": {
      "text/plain": [
       "\u001b[1;31mInit signature:\u001b[0m \u001b[0mrange\u001b[0m\u001b[1;33m(\u001b[0m\u001b[0mself\u001b[0m\u001b[1;33m,\u001b[0m \u001b[1;33m/\u001b[0m\u001b[1;33m,\u001b[0m \u001b[1;33m*\u001b[0m\u001b[0margs\u001b[0m\u001b[1;33m,\u001b[0m \u001b[1;33m**\u001b[0m\u001b[0mkwargs\u001b[0m\u001b[1;33m)\u001b[0m\u001b[1;33m\u001b[0m\u001b[1;33m\u001b[0m\u001b[0m\n",
       "\u001b[1;31mDocstring:\u001b[0m     \n",
       "range(stop) -> range object\n",
       "range(start, stop[, step]) -> range object\n",
       "\n",
       "Return an object that produces a sequence of integers from start (inclusive)\n",
       "to stop (exclusive) by step.  range(i, j) produces i, i+1, i+2, ..., j-1.\n",
       "start defaults to 0, and stop is omitted!  range(4) produces 0, 1, 2, 3.\n",
       "These are exactly the valid indices for a list of 4 elements.\n",
       "When step is given, it specifies the increment (or decrement).\n",
       "\u001b[1;31mType:\u001b[0m           type\n",
       "\u001b[1;31mSubclasses:\u001b[0m     \n"
      ]
     },
     "metadata": {},
     "output_type": "display_data"
    }
   ],
   "source": [
    "?range\n",
    "#help(round)\n",
    "#print()"
   ]
  },
  {
   "cell_type": "markdown",
   "metadata": {
    "id": "X1ymyr-VhUsI"
   },
   "source": [
    "# Example exercises\n",
    "\n",
    "Let's finish this first notebook with a few examples for you to complete. \n",
    "\n",
    " 1. The fomula for the natural frequency of a spring-mass system is $\\omega_n = \\sqrt{k/m}$ where $k$ is the spring stiffness and $m$ is the mass. Determine the mass in kilograms if the natural frequency is measured as $2~\\text{rad/s}$ and $k=31~\\text{N/m}$."
   ]
  },
  {
   "cell_type": "code",
   "execution_count": 22,
   "metadata": {
    "id": "FSdTlwFCiSgj"
   },
   "outputs": [],
   "source": [
    "omega_n = 2 # rad/s\n",
    "k = 31 # N/m\n",
    "mass = k / (omega_n ** 2) # replace with a formula in terms of omega_n andk"
   ]
  },
  {
   "cell_type": "code",
   "execution_count": 23,
   "metadata": {
    "deletable": false,
    "editable": false,
    "id": "H_x3SP8TieAK"
   },
   "outputs": [
    {
     "name": "stdout",
     "output_type": "stream",
     "text": [
      "Correct!\n"
     ]
    }
   ],
   "source": [
    "# You can't edit this cell, but run it to check your solution.\n",
    "assert(mass == 7.75)\n",
    "print(\"Correct!\")"
   ]
  },
  {
   "cell_type": "markdown",
   "metadata": {
    "id": "-b8eSYc2idLb"
   },
   "source": [
    "2. The drag force can be calculated as $$D = \\frac{1}{2} \\rho C_D U^2 A$$ where $\\rho$, $U$ are the density and velocity of the flow, and $C_D$, $A$ are the drag coefficient and frontal area of the body. Write a function to compute the drag given these four inputs."
   ]
  },
  {
   "cell_type": "code",
   "execution_count": 3,
   "metadata": {
    "id": "fx1YmDkamaCZ"
   },
   "outputs": [],
   "source": [
    "def drag(rho,C_D,U,Area):\n",
    "  D = 0.5 * rho * C_D * (U ** 2) * Area\n",
    "  return D"
   ]
  },
  {
   "cell_type": "code",
   "execution_count": 30,
   "metadata": {
    "deletable": false,
    "editable": false,
    "id": "fvbd4fFjmw1d"
   },
   "outputs": [
    {
     "name": "stdout",
     "output_type": "stream",
     "text": [
      "Correct!\n"
     ]
    }
   ],
   "source": [
    "# You can't edit this cell, but run it to check your solution.\n",
    "assert(drag(1,2,3,4) == 36)\n",
    "print(\"Correct!\")"
   ]
  },
  {
   "cell_type": "markdown",
   "metadata": {
    "id": "V8FiFvE7nKRt"
   },
   "source": [
    "3. Loop through $U=2,4,\\ldots,16~\\text{m/s}$ using a range statement and print the speed."
   ]
  },
  {
   "cell_type": "code",
   "execution_count": 1,
   "metadata": {
    "id": "5LED0-EboMvu"
   },
   "outputs": [
    {
     "name": "stdout",
     "output_type": "stream",
     "text": [
      "2\n",
      "4\n",
      "6\n",
      "8\n",
      "10\n",
      "12\n",
      "14\n",
      "16\n"
     ]
    }
   ],
   "source": [
    "# Fix the range\n",
    "for U in range(2,18,2):\n",
    "    print(U)"
   ]
  },
  {
   "cell_type": "markdown",
   "metadata": {
    "id": "8Evvl1Hno6SR"
   },
   "source": [
    "4. Evaluate the `drag` function at each speed above assuming a drag coefficient and area of $C_D=0.1$, $A=0.2~\\text{m}^2$ and a water density of $\\rho=1000~\\text{kg/m}^3$. Round the answer to the nearest $\\text{N}$ before printing. For example, the last value should be \"Drag=2560N\"."
   ]
  },
  {
   "cell_type": "code",
   "execution_count": 4,
   "metadata": {
    "id": "nxRYJg81obN-"
   },
   "outputs": [
    {
     "name": "stdout",
     "output_type": "stream",
     "text": [
      "Density: 1000\n",
      "C_D: 0.1\n",
      "Area: 0.2\n",
      "Start speed: 2\n",
      "End Speed: 16\n",
      "Iteration steps: 1\n",
      "Drag at 2[m/s] is 40.0[N]\n",
      "Drag at 3[m/s] is 90.0[N]\n",
      "Drag at 4[m/s] is 160.0[N]\n",
      "Drag at 5[m/s] is 250.0[N]\n",
      "Drag at 6[m/s] is 360.0[N]\n",
      "Drag at 7[m/s] is 490.0[N]\n",
      "Drag at 8[m/s] is 640.0[N]\n",
      "Drag at 9[m/s] is 810.0[N]\n",
      "Drag at 10[m/s] is 1000.0[N]\n",
      "Drag at 11[m/s] is 1210.0[N]\n",
      "Drag at 12[m/s] is 1440.0[N]\n",
      "Drag at 13[m/s] is 1690.0[N]\n",
      "Drag at 14[m/s] is 1960.0[N]\n",
      "Drag at 15[m/s] is 2250.0[N]\n",
      "Drag at 16[m/s] is 2560.0[N]\n"
     ]
    }
   ],
   "source": [
    "# Loop over the range above and print the drag using round()\n",
    "rho = float(input('Density: '))\n",
    "C_D = float(input('C_D: '))\n",
    "Area = float(input('Area: '))\n",
    "Usta = int(input('Start speed: '))\n",
    "Uend = int(input('End Speed: '))\n",
    "Ustep = int(input('Iteration steps: '))\n",
    "Uend += Ustep\n",
    "\n",
    "for U in range(Usta,Uend,Ustep):\n",
    "    D = drag(rho, C_D, U, Area)\n",
    "    print('Drag at ' + str(U) + '[m/s] is ' + str(D) + '[N]')"
   ]
  },
  {
   "cell_type": "code",
   "execution_count": null,
   "metadata": {},
   "outputs": [],
   "source": []
  }
 ],
 "metadata": {
  "colab": {
   "collapsed_sections": [],
   "include_colab_link": true,
   "name": "GettingStartedPythonNotebooks.ipynb",
   "provenance": []
  },
  "kernelspec": {
   "display_name": "Python 3 (Spyder)",
   "language": "python3",
   "name": "python3"
  },
  "language_info": {
   "codemirror_mode": {
    "name": "ipython",
    "version": 3
   },
   "file_extension": ".py",
   "mimetype": "text/x-python",
   "name": "python",
   "nbconvert_exporter": "python",
   "pygments_lexer": "ipython3",
   "version": "3.8.5"
  }
 },
 "nbformat": 4,
 "nbformat_minor": 4
}
