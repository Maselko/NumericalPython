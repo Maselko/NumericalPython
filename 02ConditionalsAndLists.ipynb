{
 "cells": [
  {
   "cell_type": "markdown",
   "metadata": {
    "colab_type": "text",
    "id": "view-in-github"
   },
   "source": [
    "<a href=\"https://colab.research.google.com/github/weymouth/NumericalPython/blob/main/02ConditionalsAndLists.ipynb\" target=\"_parent\"><img src=\"https://colab.research.google.com/assets/colab-badge.svg\" alt=\"Open In Colab\"/></a>"
   ]
  },
  {
   "cell_type": "markdown",
   "metadata": {
    "id": "umNbE5lyd6bT"
   },
   "source": [
    "# Conditionals and Lists in Python\n",
    "\n",
    "We now have the basic building blocks of variables, operations and functions in Python, allowing us to perform a wide range of calculations. However, adding conditionals and lists to our Python capabilities will greatly increase the range of engineering problems we can solve.\n",
    "\n",
    "![Towing tank](https://cdn.southampton.ac.uk/assets/imported/transforms/content-block/CB_RImg/19677430F8FD415F823DAC20DFE72BBE/DSCF0072-banner.jpg_SIA_JPG_background_image.jpg)\n",
    "\n",
    "As an example to guide this notebook, we will determining wave conditions in an experimental tank such as the Bolderwood towing tank in the image above."
   ]
  },
  {
   "cell_type": "markdown",
   "metadata": {
    "id": "Pp-tpCmAd6bW"
   },
   "source": [
    "# Booleans and Conditionals\n",
    "\n",
    "You can test the value of a variable and use this to control the execution of a program using conditional statements. "
   ]
  },
  {
   "cell_type": "markdown",
   "metadata": {
    "id": "vNcd5wzHd6bW"
   },
   "source": [
    "## Booleans\n",
    "\n",
    "The values `True` and `False` are built-in Boolean objects. We can build up logical conditions and tests and the result will be one of these objects. Predict what the logical statements below will print. Then test your predictions by using the \"play\" button or pressing [shift]-[enter]."
   ]
  },
  {
   "cell_type": "code",
   "execution_count": 33,
   "metadata": {
    "id": "5blI8MIRd6bW"
   },
   "outputs": [
    {
     "name": "stdout",
     "output_type": "stream",
     "text": [
      "<class 'bool'>\n",
      "False\n",
      "True\n",
      "False\n",
      "True\n",
      "True\n"
     ]
    }
   ],
   "source": [
    "a = True\n",
    "b = True\n",
    "c = False\n",
    "print(type(a))\n",
    "print( not a )\n",
    "print( a and b )\n",
    "print( a and c )\n",
    "print( a or c )\n",
    "print( not a or (c or b) )"
   ]
  },
  {
   "cell_type": "markdown",
   "metadata": {
    "id": "eVKg9cvjpVA8"
   },
   "source": [
    "In numerical programming and analysis, Booleans typically occur when testing the relationship between two numbers using boolean operators\n",
    "\n",
    "| Operation     | Description                       || Operation     | Description                          |\n",
    "|---------------|-----------------------------------||---------------|--------------------------------------|\n",
    "| ``a == b``    | ``a`` equal to ``b``              || ``a != b``    | ``a`` not equal to ``b``             |\n",
    "| ``a < b``     | ``a`` less than ``b``             || ``a > b``     | ``a`` greater than ``b``             |\n",
    "| ``a <= b``    | ``a`` less than or equal to ``b`` || ``a >= b``    | ``a`` greater than or equal to ``b`` |\n",
    "\n",
    "Like before, try to guess what these condional operations will return before running the code block below:"
   ]
  },
  {
   "cell_type": "code",
   "execution_count": 34,
   "metadata": {
    "id": "QUy5tSUWd6bW"
   },
   "outputs": [
    {
     "name": "stdout",
     "output_type": "stream",
     "text": [
      "True\n",
      "False\n",
      "False\n",
      "False\n",
      "True\n",
      "True\n",
      "False\n",
      "True\n"
     ]
    }
   ],
   "source": [
    "print( 5 == 5 )\n",
    "print( 5. != 5 )\n",
    "print( 'five' == 5 )\n",
    "print( 10/2 != 25**(.5) )\n",
    "\n",
    "print( 4 >= 4 )\n",
    "print( 4+1/1000000 > 4 )\n",
    "print( (4+1)/10000 >= 4 )\n",
    "\n",
    "print( 4>=5 or 5>=4 )"
   ]
  },
  {
   "cell_type": "markdown",
   "metadata": {
    "id": "jZSvwD-sH8FW"
   },
   "source": [
    "And, not surprisingly, you can also write functions to evaluate boolean checks. A classic example is to check if a number is even or odd using the mod operator:"
   ]
  },
  {
   "cell_type": "code",
   "execution_count": 35,
   "metadata": {
    "id": "TFyJDABLvlQg"
   },
   "outputs": [
    {
     "name": "stdout",
     "output_type": "stream",
     "text": [
      "The number 0 is odd: False\n",
      "The number 1 is odd: True\n",
      "The number 2 is odd: False\n",
      "The number 3 is odd: True\n"
     ]
    }
   ],
   "source": [
    "def is_odd(i):\n",
    "    return i%2==1\n",
    "\n",
    "for i in range(4):\n",
    "    print(\"The number {} is odd: {}\".format(i,is_odd(i)))"
   ]
  },
  {
   "cell_type": "markdown",
   "metadata": {
    "id": "2e9FWp7jGCCH"
   },
   "source": [
    "As you can see, this correctly identifies even and odd digits.\n",
    "\n",
    "As usual, I'm sneaking in a few more ideas into this example. In this case, I've used a [format statement](https://www.w3schools.com/python/ref_string_format.asp) to insert the number we were checking `i` and the output of the function `is_odd(i)` into a string and then print it. This is just \"for looks\" in this case, but it is a nice technique to know."
   ]
  },
  {
   "cell_type": "markdown",
   "metadata": {
    "id": "UHO4JaEZd6bX"
   },
   "source": [
    "## Conditional statements\n",
    "\n",
    "One of the more powerful aspects of numerical programming is derived by combining booleans with conditional statements like `if`. The following example shows the syntax for a python `if` statement."
   ]
  },
  {
   "cell_type": "code",
   "execution_count": 36,
   "metadata": {
    "id": "LDlkHYtMK4o4"
   },
   "outputs": [
    {
     "name": "stdout",
     "output_type": "stream",
     "text": [
      "-2  is even and not greater than 0.\n",
      "-1  is odd.\n",
      "0  is even and not greater than 0.\n",
      "1  is odd.\n",
      "2  is even and greater than 0.\n"
     ]
    }
   ],
   "source": [
    "def describe_number(n):\n",
    "    if is_odd(n):\n",
    "        print(n,' is odd.')\n",
    "    elif n>0:\n",
    "        print(n,' is even and greater than 0.')\n",
    "    else:\n",
    "        print(n,' is even and not greater than 0.')\n",
    "\n",
    "for n in range(-2,3):\n",
    "    describe_number(n)"
   ]
  },
  {
   "cell_type": "markdown",
   "metadata": {
    "id": "D38jk4E1QDte"
   },
   "source": [
    "This function uses a different print statement based on the properties of the number. In numerical computing we often use these code \"branches\" to choose different formulas depending on the input. \n",
    "\n",
    "**Example:** The towing take has a wave maker and we need to know how long those waves will be $\\lambda$ as a function of the frequency of the wave maker paddle $\\omega$ and the depth of the tank $h$. There is a simple formula for this, but it only holds in deep water,\n",
    "\n",
    "$$ \\lambda = \\frac{2\\pi g}{\\omega^2} \\quad \\text{if}\\quad \\lambda < 2h $$\n",
    "\n",
    "where $g$ is the acceleration of gravity. If the wave is too long, we need to use a more general form of the dispersion relationship which we will look at later. \n",
    "\n",
    "So let's write a function for this problem"
   ]
  },
  {
   "cell_type": "code",
   "execution_count": 37,
   "metadata": {
    "id": "nAxFcm1id6bX"
   },
   "outputs": [
    {
     "name": "stdout",
     "output_type": "stream",
     "text": [
      "Wave is not deep water when h = 3 m and omega = 2 rad/s.\n",
      "Wave is not deep water when h = 3 m and omega = 3 rad/s.\n",
      "Wavelength is 3.85 m when omega = 4 rad/s\n",
      "Wavelength is 2.47 m when omega = 5 rad/s\n",
      "Wavelength is 1.71 m when omega = 6 rad/s\n",
      "Wavelength is 1.26 m when omega = 7 rad/s\n"
     ]
    }
   ],
   "source": [
    "def deep_wavelength(omega):\n",
    "    # omega needs to be given in rad/s.\n",
    "    g = 9.81 # m/s**2\n",
    "    pi = 3.14159\n",
    "    return 2*pi*g/omega**2 # length in m\n",
    "\n",
    "def check_wavelength(omega,h=3):\n",
    "    # omega needs to be given in rad/s and h in m.\n",
    "    l = deep_wavelength(omega)\n",
    "    if l<2*h:\n",
    "        print(\"Wavelength is {:.3g} m when omega = {} rad/s\".format(l,omega))\n",
    "    else:\n",
    "        print('Wave is not deep water ' \n",
    "              'when h = {} m and omega = {} rad/s.'.format(h,omega))\n",
    "        \n",
    "for omega in range(2,8):\n",
    "    check_wavelength(omega)"
   ]
  },
  {
   "cell_type": "markdown",
   "metadata": {
    "id": "tGxaQmhbd6bX"
   },
   "source": [
    "In the first function computes the deep water wavelength and the second either prints that length or that it isn't valid. \n",
    "\n",
    "Note that I have set `h=3` in the first line (the _header_) of `check_wavelength`. This makes `h` an _optional argument_ with a default value of 3 (since our wavetank is $3 \\text{m}$ deep). So `check_wavelength(10)==check_wavelength(10,3)`. In the function body I compute the value of wavelength by calling the deep water function. Then I check to make sure that formula was valid, and print the appropriate statement using `if-else`. The only new syntax here is in the last print statement: `{:.3g}` converts the float `l` to a string with 3 significant digits."
   ]
  },
  {
   "cell_type": "markdown",
   "metadata": {
    "id": "8Evvl1Hno6SR"
   },
   "source": [
    "# Lists\n",
    "\n",
    "A collection of variables can be grouped together in many types of [data structures](https://docs.python.org/3/tutorial/datastructures.html) in Python. In this notebook we focus on lists.\n",
    "\n",
    "A list in python is just sequence of variables. We've had many examples now that use `range()` to make a list of integers, but there are many more choices. For example"
   ]
  },
  {
   "cell_type": "code",
   "execution_count": 38,
   "metadata": {
    "id": "nxRYJg81obN-"
   },
   "outputs": [
    {
     "data": {
      "text/plain": [
       "[2, 3, 5, 7, 11, 13, 17]"
      ]
     },
     "execution_count": 38,
     "metadata": {},
     "output_type": "execute_result"
    }
   ],
   "source": [
    "primes = [2,3,5,7,11,13,17]\n",
    "primes"
   ]
  },
  {
   "cell_type": "code",
   "execution_count": 39,
   "metadata": {
    "id": "IqCpvQ8Ji-C-"
   },
   "outputs": [
    {
     "data": {
      "text/plain": [
       "['Prince', 'P!nk', 'Eminem', 'Rhianna', 'Madonna', 'Beyoncé']"
      ]
     },
     "execution_count": 39,
     "metadata": {},
     "output_type": "execute_result"
    }
   ],
   "source": [
    "single_name_singers = [\"Prince\",\"P!nk\",\"Eminem\",\"Rhianna\",\"Madonna\",\"Beyonc\\u00E9\"]\n",
    "single_name_singers"
   ]
  },
  {
   "cell_type": "markdown",
   "metadata": {
    "id": "46bnfwGklTC_"
   },
   "source": [
    "(Note the use of unicode to get the _grave_ in Beyoncé.)\n",
    "\n",
    "As you can see, the format for a list is to enclose the items in square brackets `[ ]` and to separate each item with a comma `,`. If nothing goes inside, you just get an empty list."
   ]
  },
  {
   "cell_type": "code",
   "execution_count": 40,
   "metadata": {
    "id": "PvTOvlr7kdQ1"
   },
   "outputs": [
    {
     "data": {
      "text/plain": [
       "[]"
      ]
     },
     "execution_count": 40,
     "metadata": {},
     "output_type": "execute_result"
    }
   ],
   "source": [
    "empty = []\n",
    "empty"
   ]
  },
  {
   "cell_type": "markdown",
   "metadata": {
    "id": "eMWa3QTZlvv9"
   },
   "source": [
    "And you can loop through the items in any list just as we've done before using `for-in`"
   ]
  },
  {
   "cell_type": "code",
   "execution_count": 41,
   "metadata": {
    "id": "u7DuuRHglnEO"
   },
   "outputs": [
    {
     "name": "stdout",
     "output_type": "stream",
     "text": [
      "Prince\n",
      "P!nk\n",
      "Eminem\n",
      "Rhianna\n",
      "Madonna\n",
      "Beyoncé\n"
     ]
    }
   ],
   "source": [
    "for name in single_name_singers:\n",
    "    print(name)"
   ]
  },
  {
   "cell_type": "code",
   "execution_count": 42,
   "metadata": {
    "id": "6qHYYP40p_D7"
   },
   "outputs": [
    {
     "name": "stdout",
     "output_type": "stream",
     "text": [
      "2  is prime AND the age of one of my children/pets\n",
      "11  is prime AND the age of one of my children/pets\n"
     ]
    }
   ],
   "source": [
    "household_ages = [1/3,2,4,9,11] # I have a full house\n",
    "for p in primes:\n",
    "    if p in household_ages: \n",
    "        print(p,' is prime AND the age of one of my children/pets')"
   ]
  },
  {
   "cell_type": "markdown",
   "metadata": {
    "id": "o_om2FiarQL3"
   },
   "source": [
    "## Sublists\n",
    "\n",
    "But we don't need to go through all the items in a list. We can also _index_ a particular item we want, or loop through a _slice_ of a list. \n",
    "\n",
    "Python uses 0-based indexing so the first item is has index 0, the second has index 1 and so on."
   ]
  },
  {
   "cell_type": "code",
   "execution_count": 43,
   "metadata": {
    "id": "n6NkwJyLtf8k"
   },
   "outputs": [
    {
     "name": "stdout",
     "output_type": "stream",
     "text": [
      "2\n",
      "3\n"
     ]
    }
   ],
   "source": [
    "print(primes[0])\n",
    "print(primes[1])"
   ]
  },
  {
   "cell_type": "markdown",
   "metadata": {
    "id": "TS7Z8JPOt2if"
   },
   "source": [
    "So what is the index of the **last** item in our list of primes? Modify the code above to check your math. \n",
    "\n",
    "You can also count backwards through a list. Guess what the results before you run this cell:"
   ]
  },
  {
   "cell_type": "code",
   "execution_count": 44,
   "metadata": {
    "id": "IrYXqrnIueNp"
   },
   "outputs": [
    {
     "name": "stdout",
     "output_type": "stream",
     "text": [
      "17\n",
      "13\n"
     ]
    }
   ],
   "source": [
    "print(primes[-1])\n",
    "print(primes[-2])"
   ]
  },
  {
   "cell_type": "markdown",
   "metadata": {
    "id": "2fLXAGAYuq5_"
   },
   "source": [
    "Finally, we can select only part of an array, a *slice*. Similar to the syntax of the `range` function, you can index using  `[start]:span[:step]`, where the items in the square brackets are optional. For example, who are the first three singers in the list? "
   ]
  },
  {
   "cell_type": "code",
   "execution_count": 45,
   "metadata": {
    "id": "jSGEla4Nu_7f"
   },
   "outputs": [
    {
     "data": {
      "text/plain": [
       "['Prince', 'P!nk', 'Eminem']"
      ]
     },
     "execution_count": 45,
     "metadata": {},
     "output_type": "execute_result"
    }
   ],
   "source": [
    "single_name_singers[:3]"
   ]
  },
  {
   "cell_type": "markdown",
   "metadata": {
    "id": "ZUIn5chWvazV"
   },
   "source": [
    "Try some more advanced slicing on your own to get the sublists suggested below."
   ]
  },
  {
   "cell_type": "code",
   "execution_count": 46,
   "metadata": {
    "id": "5HgUzSy2vNsJ"
   },
   "outputs": [
    {
     "name": "stdout",
     "output_type": "stream",
     "text": [
      "['Rhianna', 'Madonna', 'Beyoncé']\n"
     ]
    },
    {
     "data": {
      "text/plain": [
       "[3, 5, 7, 11, 13, 17]"
      ]
     },
     "execution_count": 46,
     "metadata": {},
     "output_type": "execute_result"
    }
   ],
   "source": [
    "# 1. Slice to give the last three singers\n",
    "print(single_name_singers[3:])\n",
    "# 2. Slice to give every other prime, starting at 3. ie 3,7,11,...\n",
    "primes[1:]"
   ]
  },
  {
   "cell_type": "markdown",
   "metadata": {
    "id": "XgmLflSXnwct"
   },
   "source": [
    "## Functions and methods\n",
    "\n",
    "There are many potentially helpful functions that can applied to lists. I've summarized a few below:\n",
    "\n"
   ]
  },
  {
   "cell_type": "code",
   "execution_count": 47,
   "metadata": {
    "id": "7Emcc8ZqxyD9"
   },
   "outputs": [
    {
     "name": "stdout",
     "output_type": "stream",
     "text": [
      "6\n",
      "['Beyoncé', 'Eminem', 'Madonna', 'P!nk', 'Prince', 'Rhianna']\n",
      "58 , 17\n"
     ]
    }
   ],
   "source": [
    "print(len(single_name_singers))    # length of a list\n",
    "print(sorted(single_name_singers)) # sort a list\n",
    "print(sum(primes),\",\",max(primes)) # sum and max of a list"
   ]
  },
  {
   "cell_type": "markdown",
   "metadata": {
    "id": "0fqr2hf1zRGk"
   },
   "source": [
    "There are also special functions \"attached\" to any list. Functions like this are called _methods_. (This is [object oriented programming](https://realpython.com/python3-object-oriented-programming/) termonology - but we don't need the details for now.) \n",
    "\n",
    "For example, we find the index for a given value using the `index` method"
   ]
  },
  {
   "cell_type": "code",
   "execution_count": 48,
   "metadata": {
    "id": "cWFmzGJuzQxi"
   },
   "outputs": [
    {
     "name": "stdout",
     "output_type": "stream",
     "text": [
      "3 True\n"
     ]
    }
   ],
   "source": [
    "i = primes.index(7)\n",
    "print(i,primes[i]==7)"
   ]
  },
  {
   "cell_type": "markdown",
   "metadata": {
    "id": "eEm8_wFKz_5F"
   },
   "source": [
    "Which shows that 7 is at index 3, agreeing with our slicing above.\n",
    "\n",
    "Note that the format of calling a method is different than a regular function. We write the object, then a dot, then the name of the method, then the arguments in parethesis. In this example `prime` is the object, `index` is the method, and `7` was the argument. The `format` statement is also a method. In the code `\"I am {} years old\".format(19)`, the string is the object, `format` is the method and `19` is the argument."
   ]
  },
  {
   "cell_type": "markdown",
   "metadata": {
    "id": "3Haa6ZIa-T_T"
   },
   "source": [
    "## Creating lists\n",
    "\n",
    "We've seen that we can write down a list inside square brackets, but this isn't very practical for long lists. If the list is just a simple repetition, you can create it using the multiply operation:"
   ]
  },
  {
   "cell_type": "code",
   "execution_count": 49,
   "metadata": {},
   "outputs": [
    {
     "name": "stdout",
     "output_type": "stream",
     "text": [
      "[4, 4, 4, 4, 4] [5, 5, 5, 5]\n"
     ]
    }
   ],
   "source": [
    "a = [4]*5\n",
    "b = [5]*4\n",
    "print(a,b)"
   ]
  },
  {
   "cell_type": "markdown",
   "metadata": {},
   "source": [
    "And we can append lists together using the addition operation:"
   ]
  },
  {
   "cell_type": "code",
   "execution_count": 50,
   "metadata": {},
   "outputs": [
    {
     "name": "stdout",
     "output_type": "stream",
     "text": [
      "[4, 4, 4, 4, 4, 8]\n",
      "[4, 4, 4, 4, 4, 5, 5, 5, 5, 4, 4, 4, 4, 4]\n"
     ]
    }
   ],
   "source": [
    "print(a+[8])\n",
    "print(a+b+a)"
   ]
  },
  {
   "cell_type": "markdown",
   "metadata": {
    "id": "HZj4f8RpzEb2"
   },
   "source": [
    "This is called operator overloading. Python decides what the `*,+` operations mean depending on the data type.\n",
    "\n",
    "However, this kind of code can be confusing and still isn't very general. The best way to create lists is using a [list comprehension](https://docs.python.org/3/tutorial/datastructures.html?highlight=comprehension#list-comprehensions). Basically, we loop through a simple list like `range(n)` to create a new list inside the square brackets."
   ]
  },
  {
   "cell_type": "markdown",
   "metadata": {
    "id": "HZj4f8RpzEb2"
   },
   "source": [
    "Now instead of printing our wavelengths to the screen, let's make a list of them, so we can use them for other parts of our program later."
   ]
  },
  {
   "cell_type": "code",
   "execution_count": 51,
   "metadata": {
    "id": "HhJ7Zn_U3u67"
   },
   "outputs": [
    {
     "data": {
      "text/plain": [
       "[61.6379958,\n",
       " 15.40949895,\n",
       " 6.8486662,\n",
       " 3.8523747375,\n",
       " 2.465519832,\n",
       " 1.71216655,\n",
       " 1.257918281632653,\n",
       " 0.963093684375,\n",
       " 0.7609629111111111,\n",
       " 0.616379958,\n",
       " 0.5094049239669421,\n",
       " 0.4280416375,\n",
       " 0.36472186863905326,\n",
       " 0.31447957040816327,\n",
       " 0.273946648,\n",
       " 0.24077342109375,\n",
       " 0.21328026228373703,\n",
       " 0.19024072777777778,\n",
       " 0.1707423706371191]"
      ]
     },
     "execution_count": 51,
     "metadata": {},
     "output_type": "execute_result"
    }
   ],
   "source": [
    "omega_list = range(1,20) # simple list using range\n",
    "wavelength_list = [deep_wavelength(omega) for omega in omega_list] # list comprehension\n",
    "wavelength_list"
   ]
  },
  {
   "cell_type": "markdown",
   "metadata": {
    "id": "UboDdCJ28UFQ"
   },
   "source": [
    "Note that you *could* make the second list with a for loop\n",
    "\n",
    "```python\n",
    "wavelength_list=[]\n",
    "for omega in omega_list:\n",
    "    wavelength_list = wavelength_list + [deep_wavelength(omega)]\n",
    "```\n",
    "\n",
    "**But don't!** A list comprehension is computationally faster and it is more readable.\n",
    "\n",
    "Let's also make a list of the frequencies in cycles per second."
   ]
  },
  {
   "cell_type": "code",
   "execution_count": 52,
   "metadata": {
    "id": "VKFTqLXh6CUG"
   },
   "outputs": [
    {
     "data": {
      "text/plain": [
       "[0.15915507752443828,\n",
       " 0.31831015504887655,\n",
       " 0.4774652325733148,\n",
       " 0.6366203100977531,\n",
       " 0.7957753876221914,\n",
       " 0.9549304651466296,\n",
       " 1.1140855426710679,\n",
       " 1.2732406201955062,\n",
       " 1.4323956977199443,\n",
       " 1.5915507752443827,\n",
       " 1.7507058527688208,\n",
       " 1.9098609302932592,\n",
       " 2.0690160078176976,\n",
       " 2.2281710853421357,\n",
       " 2.387326162866574,\n",
       " 2.5464812403910124,\n",
       " 2.7056363179154506,\n",
       " 2.8647913954398887,\n",
       " 3.0239464729643273]"
      ]
     },
     "execution_count": 52,
     "metadata": {},
     "output_type": "execute_result"
    }
   ],
   "source": [
    "freq_list = [omega/(2*3.14159) for omega in omega_list]\n",
    "freq_list"
   ]
  },
  {
   "cell_type": "markdown",
   "metadata": {
    "id": "qo3q5Vpw8hUH"
   },
   "source": [
    "Finally, let's join these two equal length lists \"side-by-side\" using `zip`. This lets me loop through them simultaneously and print both the frequency and wavelength, but only for waves that are short enough to be valid \"deep water\" waves and for $f<2\\text{Hz}$ to avoid overstressing the wavemaker hydraulics."
   ]
  },
  {
   "cell_type": "code",
   "execution_count": 53,
   "metadata": {
    "id": "WAi8Dzzg8hjf"
   },
   "outputs": [
    {
     "name": "stdout",
     "output_type": "stream",
     "text": [
      "0.637 Hz| 3.85 m\n",
      "0.796 Hz| 2.47 m\n",
      "0.955 Hz| 1.71 m\n",
      "1.11 Hz| 1.26 m\n",
      "1.27 Hz| 0.963 m\n",
      "1.43 Hz| 0.761 m\n",
      "1.59 Hz| 0.616 m\n",
      "1.75 Hz| 0.509 m\n",
      "1.91 Hz| 0.428 m\n"
     ]
    }
   ],
   "source": [
    "for freq,wavelength in zip(freq_list,wavelength_list):\n",
    "    if(wavelength<6 and freq<2):\n",
    "        print(\"{:.3g} Hz| {:.3g} m\".format(freq,wavelength))"
   ]
  },
  {
   "cell_type": "markdown",
   "metadata": {
    "id": "iEaqq9Bd-m28"
   },
   "source": [
    "## Example exercise\n",
    "\n",
    "Create a list with the wave speed $c=\\lambda f$ and the time it would take for each wave to reach the middle of the $130\\text{m}$ long tank. You can make a really big breaking wave by timing it such that all of these individual waves meet-up at center at the same time. When do you need to generate each wave to achieve this? Limit your answers to the waves shorter than $6m$ and less than $2Hz$.\n",
    "\n",
    "To help you check your answers, the slowest wave has the following metrics:\n",
    "\n",
    "| freq $(Hz)$ | speed $(m/s)$ | time $(s)$ | delay $(s)$ |\n",
    "|--|--|--|--|--|\n",
    "| 1.91 | 0.818 | 79.5 | 0 |"
   ]
  },
  {
   "cell_type": "code",
   "execution_count": 77,
   "metadata": {},
   "outputs": [
    {
     "data": {
      "text/plain": [
       "[53.00713557594292,\n",
       " 46.38124362895005,\n",
       " 39.75535168195719,\n",
       " 33.12945973496432,\n",
       " 26.503567787971463,\n",
       " 19.877675840978597,\n",
       " 13.251783893985731,\n",
       " 6.625891946992866,\n",
       " 0.0]"
      ]
     },
     "execution_count": 77,
     "metadata": {},
     "output_type": "execute_result"
    }
   ],
   "source": [
    "flist = []\n",
    "lamlist = []\n",
    "\n",
    "for freq,wavelength in zip(freq_list,wavelength_list):\n",
    "    if(wavelength<6 and freq<2):\n",
    "        flist.append(freq)\n",
    "        lamlist.append(wavelength)\n",
    "\n",
    "\n",
    "# speed_list = []\n",
    "\n",
    "speed_list = [f * lam for f, lam in zip(flist, lamlist)]\n",
    "\n",
    "# time_list = []\n",
    "\n",
    "time_list = [130/ 2 /speed for speed in speed_list]\n",
    "\n",
    "# delay_list = []\n",
    "\n",
    "delay_list = [max(time_list) - time for time in time_list]\n",
    "delay_list"
   ]
  },
  {
   "cell_type": "code",
   "execution_count": null,
   "metadata": {},
   "outputs": [],
   "source": []
  }
 ],
 "metadata": {
  "colab": {
   "collapsed_sections": [],
   "include_colab_link": true,
   "name": "02Conditionals_Lists.ipynb",
   "provenance": []
  },
  "kernelspec": {
   "display_name": "Python 3 (Spyder)",
   "language": "python3",
   "name": "python3"
  },
  "language_info": {
   "codemirror_mode": {
    "name": "ipython",
    "version": 3
   },
   "file_extension": ".py",
   "mimetype": "text/x-python",
   "name": "python",
   "nbconvert_exporter": "python",
   "pygments_lexer": "ipython3",
   "version": "3.8.5"
  }
 },
 "nbformat": 4,
 "nbformat_minor": 4
}
